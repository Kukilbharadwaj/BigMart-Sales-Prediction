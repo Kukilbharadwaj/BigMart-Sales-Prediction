{
 "cells": [
  {
   "cell_type": "code",
   "execution_count": 1,
   "id": "e1c87740",
   "metadata": {},
   "outputs": [],
   "source": [
    "import pandas as pd\n",
    "import numpy as np"
   ]
  },
  {
   "cell_type": "code",
   "execution_count": 2,
   "id": "04da3c9a",
   "metadata": {},
   "outputs": [],
   "source": [
    "stock_data=pd.read_csv(\"stock_data.csv\")"
   ]
  },
  {
   "cell_type": "code",
   "execution_count": 3,
   "id": "2396a5f1",
   "metadata": {},
   "outputs": [
    {
     "data": {
      "text/html": [
       "<div>\n",
       "<style scoped>\n",
       "    .dataframe tbody tr th:only-of-type {\n",
       "        vertical-align: middle;\n",
       "    }\n",
       "\n",
       "    .dataframe tbody tr th {\n",
       "        vertical-align: top;\n",
       "    }\n",
       "\n",
       "    .dataframe thead th {\n",
       "        text-align: right;\n",
       "    }\n",
       "</style>\n",
       "<table border=\"1\" class=\"dataframe\">\n",
       "  <thead>\n",
       "    <tr style=\"text-align: right;\">\n",
       "      <th></th>\n",
       "      <th>Date</th>\n",
       "      <th>Open</th>\n",
       "      <th>High</th>\n",
       "      <th>Low</th>\n",
       "      <th>Close</th>\n",
       "      <th>Volume</th>\n",
       "      <th>OpenInt</th>\n",
       "      <th>Stock</th>\n",
       "    </tr>\n",
       "  </thead>\n",
       "  <tbody>\n",
       "    <tr>\n",
       "      <th>0</th>\n",
       "      <td>1984-09-07</td>\n",
       "      <td>0.42388</td>\n",
       "      <td>0.42902</td>\n",
       "      <td>0.41874</td>\n",
       "      <td>0.42388</td>\n",
       "      <td>23220030</td>\n",
       "      <td>0</td>\n",
       "      <td>AAPL</td>\n",
       "    </tr>\n",
       "    <tr>\n",
       "      <th>1</th>\n",
       "      <td>1984-09-10</td>\n",
       "      <td>0.42388</td>\n",
       "      <td>0.42516</td>\n",
       "      <td>0.41366</td>\n",
       "      <td>0.42134</td>\n",
       "      <td>18022532</td>\n",
       "      <td>0</td>\n",
       "      <td>AAPL</td>\n",
       "    </tr>\n",
       "    <tr>\n",
       "      <th>2</th>\n",
       "      <td>1984-09-11</td>\n",
       "      <td>0.42516</td>\n",
       "      <td>0.43668</td>\n",
       "      <td>0.42516</td>\n",
       "      <td>0.42902</td>\n",
       "      <td>42498199</td>\n",
       "      <td>0</td>\n",
       "      <td>AAPL</td>\n",
       "    </tr>\n",
       "    <tr>\n",
       "      <th>3</th>\n",
       "      <td>1984-09-12</td>\n",
       "      <td>0.42902</td>\n",
       "      <td>0.43157</td>\n",
       "      <td>0.41618</td>\n",
       "      <td>0.41618</td>\n",
       "      <td>37125801</td>\n",
       "      <td>0</td>\n",
       "      <td>AAPL</td>\n",
       "    </tr>\n",
       "    <tr>\n",
       "      <th>4</th>\n",
       "      <td>1984-09-13</td>\n",
       "      <td>0.43927</td>\n",
       "      <td>0.44052</td>\n",
       "      <td>0.43927</td>\n",
       "      <td>0.43927</td>\n",
       "      <td>57822062</td>\n",
       "      <td>0</td>\n",
       "      <td>AAPL</td>\n",
       "    </tr>\n",
       "    <tr>\n",
       "      <th>5</th>\n",
       "      <td>1984-09-14</td>\n",
       "      <td>0.44052</td>\n",
       "      <td>0.45589</td>\n",
       "      <td>0.44052</td>\n",
       "      <td>0.44566</td>\n",
       "      <td>68847968</td>\n",
       "      <td>0</td>\n",
       "      <td>AAPL</td>\n",
       "    </tr>\n",
       "    <tr>\n",
       "      <th>6</th>\n",
       "      <td>1984-09-17</td>\n",
       "      <td>0.45718</td>\n",
       "      <td>0.46357</td>\n",
       "      <td>0.45718</td>\n",
       "      <td>0.45718</td>\n",
       "      <td>53755262</td>\n",
       "      <td>0</td>\n",
       "      <td>AAPL</td>\n",
       "    </tr>\n",
       "    <tr>\n",
       "      <th>7</th>\n",
       "      <td>1984-09-18</td>\n",
       "      <td>0.45718</td>\n",
       "      <td>0.46103</td>\n",
       "      <td>0.44052</td>\n",
       "      <td>0.44052</td>\n",
       "      <td>27136886</td>\n",
       "      <td>0</td>\n",
       "      <td>AAPL</td>\n",
       "    </tr>\n",
       "    <tr>\n",
       "      <th>8</th>\n",
       "      <td>1984-09-19</td>\n",
       "      <td>0.44052</td>\n",
       "      <td>0.44566</td>\n",
       "      <td>0.43157</td>\n",
       "      <td>0.43157</td>\n",
       "      <td>29641922</td>\n",
       "      <td>0</td>\n",
       "      <td>AAPL</td>\n",
       "    </tr>\n",
       "    <tr>\n",
       "      <th>9</th>\n",
       "      <td>1984-09-20</td>\n",
       "      <td>0.43286</td>\n",
       "      <td>0.43668</td>\n",
       "      <td>0.43286</td>\n",
       "      <td>0.43286</td>\n",
       "      <td>18453585</td>\n",
       "      <td>0</td>\n",
       "      <td>AAPL</td>\n",
       "    </tr>\n",
       "  </tbody>\n",
       "</table>\n",
       "</div>"
      ],
      "text/plain": [
       "         Date     Open     High      Low    Close    Volume  OpenInt Stock\n",
       "0  1984-09-07  0.42388  0.42902  0.41874  0.42388  23220030        0  AAPL\n",
       "1  1984-09-10  0.42388  0.42516  0.41366  0.42134  18022532        0  AAPL\n",
       "2  1984-09-11  0.42516  0.43668  0.42516  0.42902  42498199        0  AAPL\n",
       "3  1984-09-12  0.42902  0.43157  0.41618  0.41618  37125801        0  AAPL\n",
       "4  1984-09-13  0.43927  0.44052  0.43927  0.43927  57822062        0  AAPL\n",
       "5  1984-09-14  0.44052  0.45589  0.44052  0.44566  68847968        0  AAPL\n",
       "6  1984-09-17  0.45718  0.46357  0.45718  0.45718  53755262        0  AAPL\n",
       "7  1984-09-18  0.45718  0.46103  0.44052  0.44052  27136886        0  AAPL\n",
       "8  1984-09-19  0.44052  0.44566  0.43157  0.43157  29641922        0  AAPL\n",
       "9  1984-09-20  0.43286  0.43668  0.43286  0.43286  18453585        0  AAPL"
      ]
     },
     "execution_count": 3,
     "metadata": {},
     "output_type": "execute_result"
    }
   ],
   "source": [
    "stock_data.head(10)"
   ]
  },
  {
   "cell_type": "code",
   "execution_count": 4,
   "id": "991993d2",
   "metadata": {},
   "outputs": [
    {
     "name": "stdout",
     "output_type": "stream",
     "text": [
      "<class 'pandas.core.frame.DataFrame'>\n",
      "RangeIndex: 19586 entries, 0 to 19585\n",
      "Data columns (total 8 columns):\n",
      " #   Column   Non-Null Count  Dtype  \n",
      "---  ------   --------------  -----  \n",
      " 0   Date     19586 non-null  object \n",
      " 1   Open     19586 non-null  float64\n",
      " 2   High     19586 non-null  float64\n",
      " 3   Low      19586 non-null  float64\n",
      " 4   Close    19586 non-null  float64\n",
      " 5   Volume   19586 non-null  int64  \n",
      " 6   OpenInt  19586 non-null  int64  \n",
      " 7   Stock    19586 non-null  object \n",
      "dtypes: float64(4), int64(2), object(2)\n",
      "memory usage: 1.2+ MB\n"
     ]
    }
   ],
   "source": [
    "stock_data.info()"
   ]
  },
  {
   "cell_type": "code",
   "execution_count": 5,
   "id": "12f2a688",
   "metadata": {},
   "outputs": [
    {
     "data": {
      "text/plain": [
       "19586"
      ]
     },
     "execution_count": 5,
     "metadata": {},
     "output_type": "execute_result"
    }
   ],
   "source": [
    "len(stock_data.index)"
   ]
  },
  {
   "cell_type": "code",
   "execution_count": 6,
   "id": "a883883d",
   "metadata": {},
   "outputs": [
    {
     "data": {
      "text/html": [
       "<div>\n",
       "<style scoped>\n",
       "    .dataframe tbody tr th:only-of-type {\n",
       "        vertical-align: middle;\n",
       "    }\n",
       "\n",
       "    .dataframe tbody tr th {\n",
       "        vertical-align: top;\n",
       "    }\n",
       "\n",
       "    .dataframe thead th {\n",
       "        text-align: right;\n",
       "    }\n",
       "</style>\n",
       "<table border=\"1\" class=\"dataframe\">\n",
       "  <thead>\n",
       "    <tr style=\"text-align: right;\">\n",
       "      <th></th>\n",
       "      <th>Open</th>\n",
       "      <th>High</th>\n",
       "      <th>Low</th>\n",
       "      <th>Close</th>\n",
       "      <th>Volume</th>\n",
       "      <th>OpenInt</th>\n",
       "    </tr>\n",
       "  </thead>\n",
       "  <tbody>\n",
       "    <tr>\n",
       "      <th>count</th>\n",
       "      <td>19586.000000</td>\n",
       "      <td>19586.000000</td>\n",
       "      <td>19586.000000</td>\n",
       "      <td>19586.000000</td>\n",
       "      <td>1.958600e+04</td>\n",
       "      <td>19586.0</td>\n",
       "    </tr>\n",
       "    <tr>\n",
       "      <th>mean</th>\n",
       "      <td>37.408582</td>\n",
       "      <td>37.881571</td>\n",
       "      <td>36.906405</td>\n",
       "      <td>37.406667</td>\n",
       "      <td>8.100395e+07</td>\n",
       "      <td>0.0</td>\n",
       "    </tr>\n",
       "    <tr>\n",
       "      <th>std</th>\n",
       "      <td>59.492049</td>\n",
       "      <td>60.287797</td>\n",
       "      <td>58.622548</td>\n",
       "      <td>59.480058</td>\n",
       "      <td>7.982366e+07</td>\n",
       "      <td>0.0</td>\n",
       "    </tr>\n",
       "    <tr>\n",
       "      <th>min</th>\n",
       "      <td>0.067200</td>\n",
       "      <td>0.067200</td>\n",
       "      <td>0.067200</td>\n",
       "      <td>0.067200</td>\n",
       "      <td>0.000000e+00</td>\n",
       "      <td>0.0</td>\n",
       "    </tr>\n",
       "    <tr>\n",
       "      <th>25%</th>\n",
       "      <td>1.412300</td>\n",
       "      <td>1.440600</td>\n",
       "      <td>1.384100</td>\n",
       "      <td>1.412300</td>\n",
       "      <td>3.385552e+07</td>\n",
       "      <td>0.0</td>\n",
       "    </tr>\n",
       "    <tr>\n",
       "      <th>50%</th>\n",
       "      <td>19.649500</td>\n",
       "      <td>19.933000</td>\n",
       "      <td>19.363000</td>\n",
       "      <td>19.640000</td>\n",
       "      <td>6.294731e+07</td>\n",
       "      <td>0.0</td>\n",
       "    </tr>\n",
       "    <tr>\n",
       "      <th>75%</th>\n",
       "      <td>38.605000</td>\n",
       "      <td>39.075750</td>\n",
       "      <td>38.229250</td>\n",
       "      <td>38.655500</td>\n",
       "      <td>1.010604e+08</td>\n",
       "      <td>0.0</td>\n",
       "    </tr>\n",
       "    <tr>\n",
       "      <th>max</th>\n",
       "      <td>386.690000</td>\n",
       "      <td>389.610000</td>\n",
       "      <td>379.345000</td>\n",
       "      <td>385.000000</td>\n",
       "      <td>2.069770e+09</td>\n",
       "      <td>0.0</td>\n",
       "    </tr>\n",
       "  </tbody>\n",
       "</table>\n",
       "</div>"
      ],
      "text/plain": [
       "               Open          High           Low         Close        Volume  \\\n",
       "count  19586.000000  19586.000000  19586.000000  19586.000000  1.958600e+04   \n",
       "mean      37.408582     37.881571     36.906405     37.406667  8.100395e+07   \n",
       "std       59.492049     60.287797     58.622548     59.480058  7.982366e+07   \n",
       "min        0.067200      0.067200      0.067200      0.067200  0.000000e+00   \n",
       "25%        1.412300      1.440600      1.384100      1.412300  3.385552e+07   \n",
       "50%       19.649500     19.933000     19.363000     19.640000  6.294731e+07   \n",
       "75%       38.605000     39.075750     38.229250     38.655500  1.010604e+08   \n",
       "max      386.690000    389.610000    379.345000    385.000000  2.069770e+09   \n",
       "\n",
       "       OpenInt  \n",
       "count  19586.0  \n",
       "mean       0.0  \n",
       "std        0.0  \n",
       "min        0.0  \n",
       "25%        0.0  \n",
       "50%        0.0  \n",
       "75%        0.0  \n",
       "max        0.0  "
      ]
     },
     "execution_count": 6,
     "metadata": {},
     "output_type": "execute_result"
    }
   ],
   "source": [
    "stock_data.describe()"
   ]
  },
  {
   "cell_type": "markdown",
   "id": "6a598e9f",
   "metadata": {},
   "source": [
    "## analyzing data"
   ]
  },
  {
   "cell_type": "code",
   "execution_count": 7,
   "id": "fb915075",
   "metadata": {},
   "outputs": [],
   "source": [
    "%matplotlib inline"
   ]
  },
  {
   "cell_type": "code",
   "execution_count": 8,
   "id": "05b1fdd6",
   "metadata": {},
   "outputs": [],
   "source": [
    "import matplotlib.pyplot as plt"
   ]
  },
  {
   "cell_type": "code",
   "execution_count": 9,
   "id": "99466c00",
   "metadata": {},
   "outputs": [
    {
     "data": {
      "image/png": "[encoded data removed]",
      "text/plain": [
       "<Figure size 1440x1080 with 6 Axes>"
      ]
     },
     "metadata": {
      "needs_background": "light"
     },
     "output_type": "display_data"
    }
   ],
   "source": [
    "stock_data.hist(bins=50,figsize=(20,15))\n",
    "plt.show()"
   ]
  },
  {
   "cell_type": "code",
   "execution_count": 10,
   "id": "00f8479a",
   "metadata": {},
   "outputs": [
    {
     "data": {
      "text/html": [
       "<div>\n",
       "<style scoped>\n",
       "    .dataframe tbody tr th:only-of-type {\n",
       "        vertical-align: middle;\n",
       "    }\n",
       "\n",
       "    .dataframe tbody tr th {\n",
       "        vertical-align: top;\n",
       "    }\n",
       "\n",
       "    .dataframe thead th {\n",
       "        text-align: right;\n",
       "    }\n",
       "</style>\n",
       "<table border=\"1\" class=\"dataframe\">\n",
       "  <thead>\n",
       "    <tr style=\"text-align: right;\">\n",
       "      <th></th>\n",
       "      <th>Date</th>\n",
       "      <th>Open</th>\n",
       "      <th>High</th>\n",
       "      <th>Low</th>\n",
       "      <th>Close</th>\n",
       "      <th>Volume</th>\n",
       "      <th>OpenInt</th>\n",
       "      <th>Stock</th>\n",
       "    </tr>\n",
       "  </thead>\n",
       "  <tbody>\n",
       "    <tr>\n",
       "      <th>0</th>\n",
       "      <td>False</td>\n",
       "      <td>False</td>\n",
       "      <td>False</td>\n",
       "      <td>False</td>\n",
       "      <td>False</td>\n",
       "      <td>False</td>\n",
       "      <td>False</td>\n",
       "      <td>False</td>\n",
       "    </tr>\n",
       "    <tr>\n",
       "      <th>1</th>\n",
       "      <td>False</td>\n",
       "      <td>False</td>\n",
       "      <td>False</td>\n",
       "      <td>False</td>\n",
       "      <td>False</td>\n",
       "      <td>False</td>\n",
       "      <td>False</td>\n",
       "      <td>False</td>\n",
       "    </tr>\n",
       "    <tr>\n",
       "      <th>2</th>\n",
       "      <td>False</td>\n",
       "      <td>False</td>\n",
       "      <td>False</td>\n",
       "      <td>False</td>\n",
       "      <td>False</td>\n",
       "      <td>False</td>\n",
       "      <td>False</td>\n",
       "      <td>False</td>\n",
       "    </tr>\n",
       "    <tr>\n",
       "      <th>3</th>\n",
       "      <td>False</td>\n",
       "      <td>False</td>\n",
       "      <td>False</td>\n",
       "      <td>False</td>\n",
       "      <td>False</td>\n",
       "      <td>False</td>\n",
       "      <td>False</td>\n",
       "      <td>False</td>\n",
       "    </tr>\n",
       "    <tr>\n",
       "      <th>4</th>\n",
       "      <td>False</td>\n",
       "      <td>False</td>\n",
       "      <td>False</td>\n",
       "      <td>False</td>\n",
       "      <td>False</td>\n",
       "      <td>False</td>\n",
       "      <td>False</td>\n",
       "      <td>False</td>\n",
       "    </tr>\n",
       "    <tr>\n",
       "      <th>...</th>\n",
       "      <td>...</td>\n",
       "      <td>...</td>\n",
       "      <td>...</td>\n",
       "      <td>...</td>\n",
       "      <td>...</td>\n",
       "      <td>...</td>\n",
       "      <td>...</td>\n",
       "      <td>...</td>\n",
       "    </tr>\n",
       "    <tr>\n",
       "      <th>19581</th>\n",
       "      <td>False</td>\n",
       "      <td>False</td>\n",
       "      <td>False</td>\n",
       "      <td>False</td>\n",
       "      <td>False</td>\n",
       "      <td>False</td>\n",
       "      <td>False</td>\n",
       "      <td>False</td>\n",
       "    </tr>\n",
       "    <tr>\n",
       "      <th>19582</th>\n",
       "      <td>False</td>\n",
       "      <td>False</td>\n",
       "      <td>False</td>\n",
       "      <td>False</td>\n",
       "      <td>False</td>\n",
       "      <td>False</td>\n",
       "      <td>False</td>\n",
       "      <td>False</td>\n",
       "    </tr>\n",
       "    <tr>\n",
       "      <th>19583</th>\n",
       "      <td>False</td>\n",
       "      <td>False</td>\n",
       "      <td>False</td>\n",
       "      <td>False</td>\n",
       "      <td>False</td>\n",
       "      <td>False</td>\n",
       "      <td>False</td>\n",
       "      <td>False</td>\n",
       "    </tr>\n",
       "    <tr>\n",
       "      <th>19584</th>\n",
       "      <td>False</td>\n",
       "      <td>False</td>\n",
       "      <td>False</td>\n",
       "      <td>False</td>\n",
       "      <td>False</td>\n",
       "      <td>False</td>\n",
       "      <td>False</td>\n",
       "      <td>False</td>\n",
       "    </tr>\n",
       "    <tr>\n",
       "      <th>19585</th>\n",
       "      <td>False</td>\n",
       "      <td>False</td>\n",
       "      <td>False</td>\n",
       "      <td>False</td>\n",
       "      <td>False</td>\n",
       "      <td>False</td>\n",
       "      <td>False</td>\n",
       "      <td>False</td>\n",
       "    </tr>\n",
       "  </tbody>\n",
       "</table>\n",
       "<p>19586 rows × 8 columns</p>\n",
       "</div>"
      ],
      "text/plain": [
       "        Date   Open   High    Low  Close  Volume  OpenInt  Stock\n",
       "0      False  False  False  False  False   False    False  False\n",
       "1      False  False  False  False  False   False    False  False\n",
       "2      False  False  False  False  False   False    False  False\n",
       "3      False  False  False  False  False   False    False  False\n",
       "4      False  False  False  False  False   False    False  False\n",
       "...      ...    ...    ...    ...    ...     ...      ...    ...\n",
       "19581  False  False  False  False  False   False    False  False\n",
       "19582  False  False  False  False  False   False    False  False\n",
       "19583  False  False  False  False  False   False    False  False\n",
       "19584  False  False  False  False  False   False    False  False\n",
       "19585  False  False  False  False  False   False    False  False\n",
       "\n",
       "[19586 rows x 8 columns]"
      ]
     },
     "execution_count": 10,
     "metadata": {},
     "output_type": "execute_result"
    }
   ],
   "source": [
    "stock_data.isnull()"
   ]
  },
  {
   "cell_type": "markdown",
   "id": "2bf4e9eb",
   "metadata": {},
   "source": [
    "## Data wrangling"
   ]
  },
  {
   "cell_type": "code",
   "execution_count": 11,
   "id": "8ea0d960",
   "metadata": {},
   "outputs": [
    {
     "data": {
      "text/plain": [
       "Date       0\n",
       "Open       0\n",
       "High       0\n",
       "Low        0\n",
       "Close      0\n",
       "Volume     0\n",
       "OpenInt    0\n",
       "Stock      0\n",
       "dtype: int64"
      ]
     },
     "execution_count": 11,
     "metadata": {},
     "output_type": "execute_result"
    }
   ],
   "source": [
    "stock_data.isnull().sum()"
   ]
  },
  {
   "cell_type": "code",
   "execution_count": 12,
   "id": "a4d4a4e4",
   "metadata": {},
   "outputs": [],
   "source": [
    "stock_data.drop(\"OpenInt\",axis=1,inplace=True)\n",
    "stock_data.drop(\"Date\",axis=1,inplace=True)\n",
    "stock_data.drop(\"Stock\",axis=1,inplace=True)"
   ]
  },
  {
   "cell_type": "code",
   "execution_count": 13,
   "id": "15b2b56d",
   "metadata": {},
   "outputs": [
    {
     "data": {
      "text/html": [
       "<div>\n",
       "<style scoped>\n",
       "    .dataframe tbody tr th:only-of-type {\n",
       "        vertical-align: middle;\n",
       "    }\n",
       "\n",
       "    .dataframe tbody tr th {\n",
       "        vertical-align: top;\n",
       "    }\n",
       "\n",
       "    .dataframe thead th {\n",
       "        text-align: right;\n",
       "    }\n",
       "</style>\n",
       "<table border=\"1\" class=\"dataframe\">\n",
       "  <thead>\n",
       "    <tr style=\"text-align: right;\">\n",
       "      <th></th>\n",
       "      <th>Open</th>\n",
       "      <th>High</th>\n",
       "      <th>Low</th>\n",
       "      <th>Close</th>\n",
       "      <th>Volume</th>\n",
       "    </tr>\n",
       "  </thead>\n",
       "  <tbody>\n",
       "    <tr>\n",
       "      <th>Open</th>\n",
       "      <td>1.000000</td>\n",
       "      <td>0.999876</td>\n",
       "      <td>0.999855</td>\n",
       "      <td>0.999742</td>\n",
       "      <td>-0.297061</td>\n",
       "    </tr>\n",
       "    <tr>\n",
       "      <th>High</th>\n",
       "      <td>0.999876</td>\n",
       "      <td>1.000000</td>\n",
       "      <td>0.999805</td>\n",
       "      <td>0.999882</td>\n",
       "      <td>-0.296594</td>\n",
       "    </tr>\n",
       "    <tr>\n",
       "      <th>Low</th>\n",
       "      <td>0.999855</td>\n",
       "      <td>0.999805</td>\n",
       "      <td>1.000000</td>\n",
       "      <td>0.999876</td>\n",
       "      <td>-0.297922</td>\n",
       "    </tr>\n",
       "    <tr>\n",
       "      <th>Close</th>\n",
       "      <td>0.999742</td>\n",
       "      <td>0.999882</td>\n",
       "      <td>0.999876</td>\n",
       "      <td>1.000000</td>\n",
       "      <td>-0.297291</td>\n",
       "    </tr>\n",
       "    <tr>\n",
       "      <th>Volume</th>\n",
       "      <td>-0.297061</td>\n",
       "      <td>-0.296594</td>\n",
       "      <td>-0.297922</td>\n",
       "      <td>-0.297291</td>\n",
       "      <td>1.000000</td>\n",
       "    </tr>\n",
       "  </tbody>\n",
       "</table>\n",
       "</div>"
      ],
      "text/plain": [
       "            Open      High       Low     Close    Volume\n",
       "Open    1.000000  0.999876  0.999855  0.999742 -0.297061\n",
       "High    0.999876  1.000000  0.999805  0.999882 -0.296594\n",
       "Low     0.999855  0.999805  1.000000  0.999876 -0.297922\n",
       "Close   0.999742  0.999882  0.999876  1.000000 -0.297291\n",
       "Volume -0.297061 -0.296594 -0.297922 -0.297291  1.000000"
      ]
     },
     "execution_count": 13,
     "metadata": {},
     "output_type": "execute_result"
    }
   ],
   "source": [
    "corr_matrix=stock_data.corr()\n",
    "corr_matrix"
   ]
  },
  {
   "cell_type": "code",
   "execution_count": 14,
   "id": "2ccfb57a",
   "metadata": {},
   "outputs": [
    {
     "data": {
      "text/plain": [
       "array([[<AxesSubplot:xlabel='Open', ylabel='Open'>,\n",
       "        <AxesSubplot:xlabel='High', ylabel='Open'>,\n",
       "        <AxesSubplot:xlabel='Low', ylabel='Open'>,\n",
       "        <AxesSubplot:xlabel='Close', ylabel='Open'>,\n",
       "        <AxesSubplot:xlabel='Volume', ylabel='Open'>],\n",
       "       [<AxesSubplot:xlabel='Open', ylabel='High'>,\n",
       "        <AxesSubplot:xlabel='High', ylabel='High'>,\n",
       "        <AxesSubplot:xlabel='Low', ylabel='High'>,\n",
       "        <AxesSubplot:xlabel='Close', ylabel='High'>,\n",
       "        <AxesSubplot:xlabel='Volume', ylabel='High'>],\n",
       "       [<AxesSubplot:xlabel='Open', ylabel='Low'>,\n",
       "        <AxesSubplot:xlabel='High', ylabel='Low'>,\n",
       "        <AxesSubplot:xlabel='Low', ylabel='Low'>,\n",
       "        <AxesSubplot:xlabel='Close', ylabel='Low'>,\n",
       "        <AxesSubplot:xlabel='Volume', ylabel='Low'>],\n",
       "       [<AxesSubplot:xlabel='Open', ylabel='Close'>,\n",
       "        <AxesSubplot:xlabel='High', ylabel='Close'>,\n",
       "        <AxesSubplot:xlabel='Low', ylabel='Close'>,\n",
       "        <AxesSubplot:xlabel='Close', ylabel='Close'>,\n",
       "        <AxesSubplot:xlabel='Volume', ylabel='Close'>],\n",
       "       [<AxesSubplot:xlabel='Open', ylabel='Volume'>,\n",
       "        <AxesSubplot:xlabel='High', ylabel='Volume'>,\n",
       "        <AxesSubplot:xlabel='Low', ylabel='Volume'>,\n",
       "        <AxesSubplot:xlabel='Close', ylabel='Volume'>,\n",
       "        <AxesSubplot:xlabel='Volume', ylabel='Volume'>]], dtype=object)"
      ]
     },
     "execution_count": 14,
     "metadata": {},
     "output_type": "execute_result"
    },
    {
     "data": {
      "image/png": "[encoded data removed]",
      "text/plain": [
       "<Figure size 864x576 with 25 Axes>"
      ]
     },
     "metadata": {
      "needs_background": "light"
     },
     "output_type": "display_data"
    }
   ],
   "source": [
    "from pandas.plotting import scatter_matrix\n",
    "scatter_matrix(stock_data,figsize=(12,8))"
   ]
  },
  {
   "cell_type": "code",
   "execution_count": 15,
   "id": "17270d77",
   "metadata": {},
   "outputs": [
    {
     "data": {
      "text/plain": [
       "<AxesSubplot:>"
      ]
     },
     "execution_count": 15,
     "metadata": {},
     "output_type": "execute_result"
    },
    {
     "data": {
      "image/png": "[encoded data removed]",
      "text/plain": [
       "<Figure size 432x288 with 1 Axes>"
      ]
     },
     "metadata": {
      "needs_background": "light"
     },
     "output_type": "display_data"
    }
   ],
   "source": [
    "stock_data.plot()"
   ]
  },
  {
   "cell_type": "markdown",
   "id": "41787556",
   "metadata": {},
   "source": [
    "## Train data"
   ]
  },
  {
   "cell_type": "code",
   "execution_count": 16,
   "id": "4f1bd7a9",
   "metadata": {},
   "outputs": [],
   "source": [
    "x=stock_data.drop(\"Close\",axis=1)\n",
    "y=stock_data[\"Close\"]"
   ]
  },
  {
   "cell_type": "code",
   "execution_count": 17,
   "id": "fd2e697a",
   "metadata": {},
   "outputs": [],
   "source": [
    "from sklearn.model_selection import train_test_split\n",
    "x_train,x_test,y_train,y_test=train_test_split(x,y,test_size=0.33,random_state=42)"
   ]
  },
  {
   "cell_type": "code",
   "execution_count": 18,
   "id": "faac07f4",
   "metadata": {},
   "outputs": [],
   "source": [
    "from sklearn.linear_model import LinearRegression\n",
    "from sklearn.tree import DecisionTreeRegressor\n",
    "from sklearn.ensemble import RandomForestRegressor\n",
    "model=LinearRegression()\n",
    "#model=DecisionTreeRegressor()\n",
    "#model=RandomForestRegressor()"
   ]
  },
  {
   "cell_type": "code",
   "execution_count": 19,
   "id": "b088ce10",
   "metadata": {},
   "outputs": [
    {
     "data": {
      "text/plain": [
       "LinearRegression()"
      ]
     },
     "execution_count": 19,
     "metadata": {},
     "output_type": "execute_result"
    }
   ],
   "source": [
    "model.fit(x_train,y_train)"
   ]
  },
  {
   "cell_type": "code",
   "execution_count": 20,
   "id": "28b79dc0",
   "metadata": {},
   "outputs": [],
   "source": [
    "prad=model.predict(x_test)"
   ]
  },
  {
   "cell_type": "code",
   "execution_count": 21,
   "id": "0809dfed",
   "metadata": {},
   "outputs": [
    {
     "data": {
      "text/plain": [
       "array([331.76917113,  73.87252372,  21.85164035, ...,   1.31261246,\n",
       "         5.63238389,   1.45935262])"
      ]
     },
     "execution_count": 21,
     "metadata": {},
     "output_type": "execute_result"
    }
   ],
   "source": [
    "prad"
   ]
  },
  {
   "cell_type": "code",
   "execution_count": 22,
   "id": "a710aafb",
   "metadata": {},
   "outputs": [
    {
     "data": {
      "text/plain": [
       "array([334.46  ,  74.01  ,  21.804 , ...,   1.3164,   5.6103,   1.4803])"
      ]
     },
     "execution_count": 22,
     "metadata": {},
     "output_type": "execute_result"
    }
   ],
   "source": [
    "np.array(y_test)"
   ]
  },
  {
   "cell_type": "code",
   "execution_count": 23,
   "id": "dbd5708f",
   "metadata": {},
   "outputs": [],
   "source": [
    "from sklearn.metrics import mean_squared_error\n",
    "stock_predictions=model.predict(x_train)\n",
    "mse=mean_squared_error(y_train,stock_predictions)\n",
    "rms=np.sqrt(mse)"
   ]
  },
  {
   "cell_type": "code",
   "execution_count": 24,
   "id": "045f9c1f",
   "metadata": {},
   "outputs": [
    {
     "data": {
      "text/plain": [
       "0.5477194302013634"
      ]
     },
     "execution_count": 24,
     "metadata": {},
     "output_type": "execute_result"
    }
   ],
   "source": [
    "rms"
   ]
  },
  {
   "cell_type": "markdown",
   "id": "a7860e29",
   "metadata": {},
   "source": [
    "## Cross validation"
   ]
  },
  {
   "cell_type": "code",
   "execution_count": 25,
   "id": "555f5c84",
   "metadata": {},
   "outputs": [
    {
     "data": {
      "text/plain": [
       "array([0.55951813, 0.60283833, 0.56113921, 0.4884249 , 0.54541767])"
      ]
     },
     "execution_count": 25,
     "metadata": {},
     "output_type": "execute_result"
    }
   ],
   "source": [
    "from sklearn.model_selection import cross_val_score\n",
    "scores= cross_val_score(model,x_train,y_train,scoring=\"neg_mean_squared_error\")\n",
    "rms_scores=np.sqrt(-scores)\n",
    "rms_scores"
   ]
  },
  {
   "cell_type": "code",
   "execution_count": 26,
   "id": "0c396bbd",
   "metadata": {},
   "outputs": [],
   "source": [
    "def print_scores(scores):\n",
    "    print(\"scores\",scores)\n",
    "    print(\"mean: \",scores.mean())\n",
    "    print(\"SD\",scores.std())"
   ]
  },
  {
   "cell_type": "code",
   "execution_count": 27,
   "id": "d0741fd3",
   "metadata": {},
   "outputs": [
    {
     "name": "stdout",
     "output_type": "stream",
     "text": [
      "scores [0.55951813 0.60283833 0.56113921 0.4884249  0.54541767]\n",
      "mean:  0.5514676462367019\n",
      "SD 0.03690064169702448\n"
     ]
    }
   ],
   "source": [
    "print_scores(rms_scores)"
   ]
  },
  {
   "cell_type": "markdown",
   "id": "ad0ad23f",
   "metadata": {},
   "source": [
    "## saving model"
   ]
  },
  {
   "cell_type": "code",
   "execution_count": 28,
   "id": "dfc90737",
   "metadata": {},
   "outputs": [
    {
     "data": {
      "text/plain": [
       "['stock_market.joblib']"
      ]
     },
     "execution_count": 28,
     "metadata": {},
     "output_type": "execute_result"
    }
   ],
   "source": [
    "from joblib import dump,load\n",
    "dump(model,'stock_market.joblib')"
   ]
  },
  {
   "cell_type": "markdown",
   "id": "4a176402",
   "metadata": {},
   "source": [
    "## Testing"
   ]
  },
  {
   "cell_type": "code",
   "execution_count": 29,
   "id": "94121aaa",
   "metadata": {},
   "outputs": [],
   "source": [
    "final_prad=model.predict(x_test)\n",
    "final_mse=mean_squared_error(y_test,final_prad)\n",
    "final_rmse=np.sqrt(final_mse)"
   ]
  },
  {
   "cell_type": "code",
   "execution_count": 30,
   "id": "e9848f24",
   "metadata": {},
   "outputs": [
    {
     "data": {
      "text/plain": [
       "0.5701721083385483"
      ]
     },
     "execution_count": 30,
     "metadata": {},
     "output_type": "execute_result"
    }
   ],
   "source": [
    "final_rmse"
   ]
  },
  {
   "cell_type": "code",
   "execution_count": 31,
   "id": "2bfecd73",
   "metadata": {},
   "outputs": [
    {
     "data": {
      "text/plain": [
       "array([[2.26010000e+01, 2.27670000e+01, 2.24820000e+01, 8.60366740e+07],\n",
       "       [2.85040000e-01, 2.93600000e-01, 2.76740000e-01, 9.27464340e+07],\n",
       "       [2.34380000e+02, 2.40500000e+02, 2.33270000e+02, 5.96431800e+06],\n",
       "       ...,\n",
       "       [9.75200000e+00, 1.01890000e+01, 9.73100000e+00, 2.95519535e+08],\n",
       "       [1.32940000e+00, 1.34070000e+00, 1.29590000e+00, 5.34116920e+07],\n",
       "       [2.53250000e+01, 2.56590000e+01, 2.52570000e+01, 6.48108590e+07]])"
      ]
     },
     "execution_count": 31,
     "metadata": {},
     "output_type": "execute_result"
    }
   ],
   "source": [
    "np.array(x_train)"
   ]
  },
  {
   "cell_type": "code",
   "execution_count": 32,
   "id": "6f2a1c42",
   "metadata": {},
   "outputs": [],
   "source": [
    "from joblib import dump,load\n",
    "import numpy as np\n",
    "model=load(\"stock_market.joblib\")"
   ]
  },
  {
   "cell_type": "code",
   "execution_count": 33,
   "id": "344da282",
   "metadata": {},
   "outputs": [
    {
     "data": {
      "text/plain": [
       "array([10.11557393])"
      ]
     },
     "execution_count": 33,
     "metadata": {},
     "output_type": "execute_result"
    }
   ],
   "source": [
    "input=np.array([[9.75200000e+00, 1.01890000e+01, 9.73100000e+00, 2.95519535e+08]])\n",
    "model.predict(input)"
   ]
  },
  {
   "cell_type": "code",
   "execution_count": null,
   "id": "9c3ac1c4",
   "metadata": {},
   "outputs": [],
   "source": []
  }
 ],
 "metadata": {
  "kernelspec": {
   "display_name": "Python 3",
   "language": "python",
   "name": "python3"
  },
  "language_info": {
   "codemirror_mode": {
    "name": "ipython",
    "version": 3
   },
   "file_extension": ".py",
   "mimetype": "text/x-python",
   "name": "python",
   "nbconvert_exporter": "python",
   "pygments_lexer": "ipython3",
   "version": "3.9.0"
  }
 },
 "nbformat": 4,
 "nbformat_minor": 5
}
